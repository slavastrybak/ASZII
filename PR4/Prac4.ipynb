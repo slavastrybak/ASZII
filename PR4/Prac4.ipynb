{
  "nbformat": 4,
  "nbformat_minor": 0,
  "metadata": {
    "colab": {
      "provenance": []
    },
    "kernelspec": {
      "name": "python3",
      "display_name": "Python 3"
    },
    "language_info": {
      "name": "python"
    }
  },
  "cells": [
    {
      "cell_type": "markdown",
      "source": [
        "# Практика 4: Атака DeepFool на модели ИИ\n",
        "Выполнил студент группы ББМО-01-23 Стрыбак Вячелсав"
      ],
      "metadata": {
        "id": "ZiHoHOgT-PpU"
      }
    },
    {
      "cell_type": "markdown",
      "source": [
        "Шаг 1: Загрузка обученной модели и данных MNIST"
      ],
      "metadata": {
        "id": "dXzigFiF-UvK"
      }
    },
    {
      "cell_type": "code",
      "execution_count": 21,
      "metadata": {
        "colab": {
          "base_uri": "https://localhost:8080/"
        },
        "id": "kGvqJG9P9y36",
        "outputId": "34f3589c-aae3-4a53-a4f3-95ec079ee303"
      },
      "outputs": [
        {
          "output_type": "stream",
          "name": "stderr",
          "text": [
            "WARNING:absl:Compiled the loaded model, but the compiled metrics have yet to be built. `model.compile_metrics` will be empty until you train or evaluate the model.\n"
          ]
        },
        {
          "output_type": "stream",
          "name": "stdout",
          "text": [
            "\u001b[1m313/313\u001b[0m \u001b[32m━━━━━━━━━━━━━━━━━━━━\u001b[0m\u001b[37m\u001b[0m \u001b[1m2s\u001b[0m 4ms/step - accuracy: 0.9723 - loss: 0.0942\n",
            "Test accuracy on clean images: 0.9753000140190125\n"
          ]
        }
      ],
      "source": [
        "import tensorflow as tf\n",
        "from tensorflow.keras.datasets import mnist\n",
        "from tensorflow.keras.utils import to_categorical\n",
        "\n",
        "# Загрузка тестовых данных MNIST\n",
        "(_, _), (test_images, test_labels) = mnist.load_data()\n",
        "\n",
        "# Нормализация данных\n",
        "test_images = test_images / 255.0\n",
        "\n",
        "# Преобразование меток в формат one-hot\n",
        "test_labels = to_categorical(test_labels, num_classes=10)\n",
        "\n",
        "# Загрузка обученной модели\n",
        "model = tf.keras.models.load_model('mnist_model.h5')\n",
        "\n",
        "# Проверка точности модели на обычных данных\n",
        "test_loss, test_acc = model.evaluate(test_images, test_labels)\n",
        "print(f'Test accuracy on clean images: {test_acc}')"
      ]
    },
    {
      "cell_type": "markdown",
      "source": [
        "Шаг 2: Теория атаки DeepFool"
      ],
      "metadata": {
        "id": "O_Wp_3zv-dZR"
      }
    },
    {
      "cell_type": "markdown",
      "source": [
        "Атака DeepFool — это метод, который был разработан для минимального изменения изображений с целью заставить классификационную модель ошибиться. В отличие от других атак, таких как FGSM, DeepFool находит минимальные изменения в пространстве признаков, которые достаточны для изменения предсказания модели. Это делает DeepFool более эффективной в создании противоречивых примеров с минимальным изменением входных данных."
      ],
      "metadata": {
        "id": "Z1lontXP-eIQ"
      }
    },
    {
      "cell_type": "markdown",
      "source": [
        "Шаг 3: Реализация атаки DeepFool с использованием Foolbox"
      ],
      "metadata": {
        "id": "qr1ZXHf5-jgF"
      }
    },
    {
      "cell_type": "markdown",
      "source": [
        "Установка Foolbox:"
      ],
      "metadata": {
        "id": "pXdWi9cZ-llw"
      }
    },
    {
      "cell_type": "code",
      "source": [
        "pip install foolbox"
      ],
      "metadata": {
        "colab": {
          "base_uri": "https://localhost:8080/"
        },
        "id": "W8-L2GAf-m_m",
        "outputId": "62f3759d-8e7b-42ae-cab9-4e188a4b22d2"
      },
      "execution_count": 22,
      "outputs": [
        {
          "output_type": "stream",
          "name": "stdout",
          "text": [
            "Requirement already satisfied: foolbox in /usr/local/lib/python3.10/dist-packages (3.3.4)\n",
            "Requirement already satisfied: numpy in /usr/local/lib/python3.10/dist-packages (from foolbox) (1.26.4)\n",
            "Requirement already satisfied: scipy in /usr/local/lib/python3.10/dist-packages (from foolbox) (1.13.1)\n",
            "Requirement already satisfied: setuptools in /usr/local/lib/python3.10/dist-packages (from foolbox) (75.1.0)\n",
            "Requirement already satisfied: eagerpy>=0.30.0 in /usr/local/lib/python3.10/dist-packages (from foolbox) (0.30.0)\n",
            "Requirement already satisfied: GitPython>=3.0.7 in /usr/local/lib/python3.10/dist-packages (from foolbox) (3.1.43)\n",
            "Requirement already satisfied: typing-extensions>=3.7.4.1 in /usr/local/lib/python3.10/dist-packages (from foolbox) (4.12.2)\n",
            "Requirement already satisfied: requests>=2.24.0 in /usr/local/lib/python3.10/dist-packages (from foolbox) (2.32.3)\n",
            "Requirement already satisfied: gitdb<5,>=4.0.1 in /usr/local/lib/python3.10/dist-packages (from GitPython>=3.0.7->foolbox) (4.0.11)\n",
            "Requirement already satisfied: charset-normalizer<4,>=2 in /usr/local/lib/python3.10/dist-packages (from requests>=2.24.0->foolbox) (3.4.0)\n",
            "Requirement already satisfied: idna<4,>=2.5 in /usr/local/lib/python3.10/dist-packages (from requests>=2.24.0->foolbox) (3.10)\n",
            "Requirement already satisfied: urllib3<3,>=1.21.1 in /usr/local/lib/python3.10/dist-packages (from requests>=2.24.0->foolbox) (2.2.3)\n",
            "Requirement already satisfied: certifi>=2017.4.17 in /usr/local/lib/python3.10/dist-packages (from requests>=2.24.0->foolbox) (2024.8.30)\n",
            "Requirement already satisfied: smmap<6,>=3.0.1 in /usr/local/lib/python3.10/dist-packages (from gitdb<5,>=4.0.1->GitPython>=3.0.7->foolbox) (5.0.1)\n"
          ]
        }
      ]
    },
    {
      "cell_type": "markdown",
      "source": [
        "Реализация атаки DeepFool:"
      ],
      "metadata": {
        "id": "KCWm8PFy-otm"
      }
    },
    {
      "cell_type": "code",
      "source": [
        "import torch\n",
        "import torch.nn as nn\n",
        "import foolbox as fb\n",
        "import numpy as np\n",
        "import matplotlib.pyplot as plt\n",
        "import tensorflow as tf\n",
        "\n",
        "# Инициализация Foolbox модели\n",
        "fmodel = fb.TensorFlowModel(model, bounds=(-1, 1))\n",
        "\n",
        "# Выбор изображения для атаки (например, первое изображение из тестового набора)\n",
        "image = tf.convert_to_tensor(test_images[2], dtype=tf.float32)[None, ...]\n",
        "label = np.argmax(test_labels[0])\n",
        "label = tf.convert_to_tensor(label, dtype=tf.int64)\n",
        "\n",
        "# Выполнение атаки\n",
        "attack = fb.attacks.L2DeepFoolAttack(steps=400)\n",
        "advs, _, success = attack(fmodel, image, label[None], epsilons=0.01)\n",
        "\n",
        "# Вывод результатов\n",
        "plt.figure(figsize=(10, 5))\n",
        "plt.subplot(1, 2, 1)\n",
        "plt.title(\"Оригинальное изображение\")\n",
        "plt.imshow(image[0].numpy(), cmap=\"gray\")\n",
        "plt.axis('off')\n",
        "\n",
        "plt.subplot(1, 2, 2)\n",
        "plt.title(\"Противоречивое изображение (DeepFool)\")\n",
        "plt.imshow(advs[0].numpy(), cmap=\"gray\")\n",
        "plt.axis('off')\n",
        "\n",
        "plt.show()"
      ],
      "metadata": {
        "id": "0tYQX-Wx-plI",
        "colab": {
          "base_uri": "https://localhost:8080/",
          "height": 411
        },
        "outputId": "d7f8ad39-8b41-4a69-ea07-1d72be5e2d3f"
      },
      "execution_count": 23,
      "outputs": [
        {
          "output_type": "display_data",
          "data": {
            "text/plain": [
              "<Figure size 1000x500 with 2 Axes>"
            ],
            "image/png": "[encoded data removed]"
          },
          "metadata": {}
        }
      ]
    },
    {
      "cell_type": "markdown",
      "source": [
        "Шаг 4: Оценка модели на противоречивых примерах"
      ],
      "metadata": {
        "id": "pfJIYYZr-pI2"
      }
    },
    {
      "cell_type": "code",
      "source": [
        "# Установите количество обрабатываемых изображений\n",
        "\n",
        "adversarial_images = []\n",
        "\n",
        "# Обработка изображений\n",
        "for i in range(len(test_images)):\n",
        "    image = tf.convert_to_tensor(test_images[i], dtype=tf.float32)[None, ...]\n",
        "    label = np.argmax(test_labels[i])\n",
        "    label = tf.convert_to_tensor(label, dtype=tf.int64)\n",
        "    advs, _, success = attack(fmodel, image, label[None], epsilons=0.01)\n",
        "    adversarial_images.append(advs)\n",
        "\n",
        "# Конвертация списка в массив с правильной формой\n",
        "adversarial_images = tf.concat(adversarial_images, axis=0)  # Объединение по нулевой оси\n",
        "\n",
        "# Убедитесь, что test_labels имеют соответствующее количество меток\n",
        "adversarial_loss, adversarial_acc = model.evaluate(adversarial_images, test_labels)\n",
        "print(f'Accuracy on adversarial examples (DeepFool): {adversarial_acc}')"
      ],
      "metadata": {
        "id": "I0jBDkhe-wJT",
        "colab": {
          "base_uri": "https://localhost:8080/"
        },
        "outputId": "28dbb651-d44b-4643-83c1-6ddd96b828bb"
      },
      "execution_count": 24,
      "outputs": [
        {
          "output_type": "stream",
          "name": "stdout",
          "text": [
            "\u001b[1m313/313\u001b[0m \u001b[32m━━━━━━━━━━━━━━━━━━━━\u001b[0m\u001b[37m\u001b[0m \u001b[1m1s\u001b[0m 2ms/step - accuracy: 0.0000e+00 - loss: 131.6679\n",
            "Accuracy on adversarial examples (DeepFool): 0.0\n"
          ]
        }
      ]
    },
    {
      "cell_type": "markdown",
      "source": [
        "Вывод: Точность модели на противоречивых примерах, созданных с помощью атаки\n",
        "DeepFool, значительно снизилась до 0 по сравнению с чистыми данными. Это демонстрирует уязвимость модели перед атаками, даже если изменения в изображении минимальны."
      ],
      "metadata": {
        "id": "vjbGrNiS-vwJ"
      }
    }
  ]
}